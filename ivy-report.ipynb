{
 "cells": [
  {
   "cell_type": "code",
   "execution_count": null,
   "id": "20008fcb-7c7d-40f6-bbbe-2a09b62b7132",
   "metadata": {},
   "outputs": [],
   "source": [
    "# Install necessary packages\n",
    "!pip install bokeh pandas"
   ]
  },
  {
   "cell_type": "code",
   "execution_count": 201,
   "id": "6128dfc7-3012-4543-b6e0-fe21306978ad",
   "metadata": {},
   "outputs": [],
   "source": [
    "# Import packages\n",
    "from math import pi\n",
    "import pandas as pd\n",
    "import bokeh\n",
    "from bokeh.plotting import show, figure, output_notebook\n",
    "from bokeh.models import (AnnularWedge, ColumnDataSource,\n",
    "                          Legend, LegendItem, Plot, Range1d, HoverTool)\n",
    "from bokeh.layouts import Column, Row\n",
    "\n",
    "# output_notebook()"
   ]
  },
  {
   "cell_type": "code",
   "execution_count": 111,
   "id": "e1a25815-0b6f-4c5b-a5e4-7839cd1fd573",
   "metadata": {},
   "outputs": [],
   "source": [
    "# Import csv\n",
    "inFile = \"report.csv\"\n",
    "\n",
    "inDataFrame = pd.read_csv(inFile, encoding='utf-16',index_col=False)\n",
    "# Remove planned expenses\n",
    "inDataFrame = inDataFrame[~inDataFrame['Date'].isna()]\n",
    "# Rename uncategorized expenses\n",
    "inDataFrame[' Category'].fillna('Untitled',inplace=True)\n",
    "inDataFrame = inDataFrame.fillna(0)\n",
    "# inDataFrame.head()"
   ]
  },
  {
   "cell_type": "code",
   "execution_count": 112,
   "id": "4f7b6968-348b-44d0-8611-fe2e8748f38e",
   "metadata": {},
   "outputs": [],
   "source": [
    "#convert colors\n",
    "dec2HexColor = lambda x: f'#{hex(int(0xFFFFFFFF)+int(x)+1)[-6:].upper()}'\n",
    "inDataFrame[' Account Color'] = inDataFrame[' Account Color'].map(dec2HexColor)\n",
    "inDataFrame[' To Account Color'] = inDataFrame[' To Account Color'].map(dec2HexColor)\n",
    "inDataFrame[' Category Color'] = inDataFrame[' Category Color'].map(dec2HexColor)"
   ]
  },
  {
   "cell_type": "code",
   "execution_count": null,
   "id": "a4b39d1f-5637-45fa-a631-9ceb22a2a41f",
   "metadata": {},
   "outputs": [],
   "source": [
    "# Get years\n",
    "inDataFrame['Date'] = pd.to_datetime(inDataFrame['Date'])\n",
    "years = inDataFrame['Date'].dt.year.unique()"
   ]
  },
  {
   "cell_type": "code",
   "execution_count": 199,
   "id": "bccd9842-c320-4215-a20b-03d449276e02",
   "metadata": {},
   "outputs": [],
   "source": [
    "def piePlot(title: str, df: pd.Series, colors: list[str], percAggregate: int = 20):\n",
    "\n",
    "    aggregated = df[~(df[' Type']==\"TRANSFER\")].groupby([' Category'])[' Amount'].sum()\n",
    "    aggregated.sort_values(key=abs, inplace=True, ascending=False)\n",
    "    \n",
    "    # Categories as a percentage of the total\n",
    "    perc = aggregated/aggregated.sum()\n",
    "    \n",
    "    # select the most important elements\n",
    "    if len(aggregated) == 1:\n",
    "        selected = aggregated\n",
    "    else:\n",
    "        selected = aggregated[perc.cumsum() < (1-percAggregate/100)]\n",
    "        # at least one\n",
    "        if len(selected) < 1:\n",
    "            selected = aggregated.iloc[0]\n",
    "        selected.loc[\"Other\"] = aggregated.iloc[len(selected):].sum()\n",
    "\n",
    "    # also aggregate perc\n",
    "    perc = selected/selected.sum()\n",
    "    \n",
    "    angles = (2*pi*perc.cumsum()).tolist()\n",
    "\n",
    "    source = selected.reset_index(name='value').rename(columns={' Category': \"category\"})\n",
    "    source['start']  = [0] + angles[:-1]\n",
    "    source['end'] = angles\n",
    "    source['colors'] = [colors[cat] for cat in selected.index.to_list()]\n",
    "    \n",
    "    p = figure(height=350, title=title, toolbar_location=None,\n",
    "           tools=\"hover\", tooltips=\"@category: @value{0,0}\", x_range=(-0.5, 1.0))\n",
    "\n",
    "    p.wedge(x=0, y=1, radius=0.4,\n",
    "            start_angle=\"start\", end_angle=\"end\",\n",
    "            line_color=\"white\", fill_color=\"colors\", legend_field=\"category\", source=source)\n",
    "    \n",
    "    p.axis.axis_label = None\n",
    "    p.axis.visible = False\n",
    "    p.grid.grid_line_color = None\n",
    "    \n",
    "    return(p)\n",
    "\n",
    "def yearlyPlot(yr: int, df: pd.DataFrame):\n",
    "    # Get category colors\n",
    "    tmp = df[[' Category',' Category Color']]\n",
    "    flt = df[' Category'].drop_duplicates().index\n",
    "    tmp = tmp.loc[flt].to_dict(orient='split')\n",
    "    colors = dict(tmp['data'])\n",
    "    colors[\"Other\"] = \"#1C1C3C\"\n",
    "\n",
    "    dfN = df[df[' Amount'] < 0]\n",
    "    dfP = df[df[' Amount'] >= 0]\n",
    "\n",
    "    pN = piePlot(f\"Yearly expenses by category ({yr})\", dfN, colors, 15)\n",
    "    pP = piePlot(f\"Yearly income by category ({yr})\", dfP, colors, 15)\n",
    "    \n",
    "    print(yr)\n",
    "    # print(df.head())\n",
    "    return [pN, pP]"
   ]
  },
  {
   "cell_type": "code",
   "execution_count": 226,
   "id": "ba695e8f-0c95-4fff-a68e-939981f67cd7",
   "metadata": {},
   "outputs": [],
   "source": [
    "def monthlyPlot(yr: int, df: pd.DataFrame):\n",
    "    source = df.groupby([' Category', df.Date.dt.month])[' Amount'].sum()\n",
    "    \n",
    "    # Get category colors\n",
    "    tmp = df[[' Category',' Category Color']]\n",
    "    flt = df[' Category'].drop_duplicates().index\n",
    "    tmp = tmp.loc[flt].to_dict(orient='split')\n",
    "    colors = dict(tmp['data'])\n",
    "    \n",
    "    # create a new plot with a title and axis labels\n",
    "    p = figure(title=f\"Monthly expenses by category ({yr})\",\n",
    "               x_axis_label=\"Date\", y_axis_label=\"Expenses\",\n",
    "              height=700, width=900)\n",
    "    \n",
    "    p.add_layout(Legend(), 'right')\n",
    "    # add multiple renderers\n",
    "    for cat in df[' Category'].unique():\n",
    "        x = source[cat].index.to_list()\n",
    "        y = source[cat].to_list()\n",
    "        l = p.line(x, y, name=cat, legend_label=cat, color=colors[cat], line_width=2)\n",
    "    p.add_tools(HoverTool(tooltips=[(\"Category\", \"$name\"), (\"Month\", \"@x{0}\"), (\"Expense\", \"@y{0,0}\")],\n",
    "                          mode=\"vline\",\n",
    "                         point_policy='snap_to_data'))#, renderers=[l]))\n",
    "\n",
    "    p.legend.click_policy=\"hide\"\n",
    "    # show the results\n",
    "    print(p)\n",
    "    return(p)"
   ]
  },
  {
   "cell_type": "code",
   "execution_count": null,
   "id": "80b0b879",
   "metadata": {},
   "outputs": [],
   "source": [
    "# Generate yearly reports\n",
    "for yr in years:\n",
    "    try:\n",
    "        [pN, pP] = yearlyPlot(yr, inDataFrame[inDataFrame.Date.dt.year==yr])\n",
    "        p = monthlyPlot(yr, inDataFrame[inDataFrame.Date.dt.year==yr])\n",
    "        print(type(p))\n",
    "        print(type(pN))\n",
    "        print(type(pP))\n",
    "        show(Column(Row(pN,pP),p))\n",
    "    except Exception as e:\n",
    "        print(yr,e)\n",
    "        pass"
   ]
  }
 ],
 "metadata": {
  "kernelspec": {
   "display_name": "Python 3 (ipykernel)",
   "language": "python",
   "name": "python3"
  },
  "language_info": {
   "codemirror_mode": {
    "name": "ipython",
    "version": 3
   },
   "file_extension": ".py",
   "mimetype": "text/x-python",
   "name": "python",
   "nbconvert_exporter": "python",
   "pygments_lexer": "ipython3",
   "version": "3.11.5"
  }
 },
 "nbformat": 4,
 "nbformat_minor": 5
}
