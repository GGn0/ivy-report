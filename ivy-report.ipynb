{
 "cells": [
  {
   "cell_type": "code",
   "execution_count": 2,
   "id": "20008fcb-7c7d-40f6-bbbe-2a09b62b7132",
   "metadata": {},
   "outputs": [
    {
     "name": "stdout",
     "output_type": "stream",
     "text": [
      "Requirement already satisfied: bokeh in c:\\users\\luigi\\miniconda3\\envs\\jupy\\lib\\site-packages (3.3.0)\n",
      "Requirement already satisfied: pandas in c:\\users\\luigi\\miniconda3\\envs\\jupy\\lib\\site-packages (2.1.4)\n",
      "Requirement already satisfied: Jinja2>=2.9 in c:\\users\\luigi\\miniconda3\\envs\\jupy\\lib\\site-packages (from bokeh) (3.1.2)\n",
      "Requirement already satisfied: contourpy>=1 in c:\\users\\luigi\\miniconda3\\envs\\jupy\\lib\\site-packages (from bokeh) (1.2.0)\n",
      "Requirement already satisfied: numpy>=1.16 in c:\\users\\luigi\\miniconda3\\envs\\jupy\\lib\\site-packages (from bokeh) (1.26.3)\n",
      "Requirement already satisfied: packaging>=16.8 in c:\\users\\luigi\\miniconda3\\envs\\jupy\\lib\\site-packages (from bokeh) (23.1)\n",
      "Requirement already satisfied: pillow>=7.1.0 in c:\\users\\luigi\\miniconda3\\envs\\jupy\\lib\\site-packages (from bokeh) (10.0.1)\n",
      "Requirement already satisfied: PyYAML>=3.10 in c:\\users\\luigi\\miniconda3\\envs\\jupy\\lib\\site-packages (from bokeh) (6.0.1)\n",
      "Requirement already satisfied: tornado>=5.1 in c:\\users\\luigi\\miniconda3\\envs\\jupy\\lib\\site-packages (from bokeh) (6.3.3)\n",
      "Requirement already satisfied: xyzservices>=2021.09.1 in c:\\users\\luigi\\miniconda3\\envs\\jupy\\lib\\site-packages (from bokeh) (2022.9.0)\n",
      "Requirement already satisfied: python-dateutil>=2.8.2 in c:\\users\\luigi\\miniconda3\\envs\\jupy\\lib\\site-packages (from pandas) (2.8.2)\n",
      "Requirement already satisfied: pytz>=2020.1 in c:\\users\\luigi\\miniconda3\\envs\\jupy\\lib\\site-packages (from pandas) (2023.3.post1)\n",
      "Requirement already satisfied: tzdata>=2022.1 in c:\\users\\luigi\\miniconda3\\envs\\jupy\\lib\\site-packages (from pandas) (2023.3)\n",
      "Requirement already satisfied: MarkupSafe>=2.0 in c:\\users\\luigi\\miniconda3\\envs\\jupy\\lib\\site-packages (from Jinja2>=2.9->bokeh) (2.1.3)\n",
      "Requirement already satisfied: six>=1.5 in c:\\users\\luigi\\miniconda3\\envs\\jupy\\lib\\site-packages (from python-dateutil>=2.8.2->pandas) (1.16.0)\n"
     ]
    }
   ],
   "source": [
    "# Install necessary packages\n",
    "!pip install bokeh pandas"
   ]
  },
  {
   "cell_type": "code",
   "execution_count": 201,
   "id": "6128dfc7-3012-4543-b6e0-fe21306978ad",
   "metadata": {},
   "outputs": [],
   "source": [
    "# Import packages\n",
    "from math import pi\n",
    "import pandas as pd\n",
    "import bokeh\n",
    "from bokeh.plotting import show, figure, output_notebook\n",
    "from bokeh.models import (AnnularWedge, ColumnDataSource,\n",
    "                          Legend, LegendItem, Plot, Range1d, HoverTool)\n",
    "from bokeh.layouts import Column, Row\n",
    "\n",
    "# output_notebook()"
   ]
  },
  {
   "cell_type": "code",
   "execution_count": 111,
   "id": "e1a25815-0b6f-4c5b-a5e4-7839cd1fd573",
   "metadata": {},
   "outputs": [],
   "source": [
    "# Import csv\n",
    "inFile = \"report.csv\"\n",
    "\n",
    "inDataFrame = pd.read_csv(inFile, encoding='utf-16',index_col=False)\n",
    "# Remove planned expenses\n",
    "inDataFrame = inDataFrame[~inDataFrame['Date'].isna()]\n",
    "# Rename uncategorized expenses\n",
    "inDataFrame[' Category'].fillna('Untitled',inplace=True)\n",
    "inDataFrame = inDataFrame.fillna(0)\n",
    "# inDataFrame.head()"
   ]
  },
  {
   "cell_type": "code",
   "execution_count": 112,
   "id": "4f7b6968-348b-44d0-8611-fe2e8748f38e",
   "metadata": {},
   "outputs": [],
   "source": [
    "#convert colors\n",
    "dec2HexColor = lambda x: f'#{hex(int(0xFFFFFFFF)+int(x)+1)[-6:].upper()}'\n",
    "inDataFrame[' Account Color'] = inDataFrame[' Account Color'].map(dec2HexColor)\n",
    "inDataFrame[' To Account Color'] = inDataFrame[' To Account Color'].map(dec2HexColor)\n",
    "inDataFrame[' Category Color'] = inDataFrame[' Category Color'].map(dec2HexColor)"
   ]
  },
  {
   "cell_type": "code",
   "execution_count": 113,
   "id": "a4b39d1f-5637-45fa-a631-9ceb22a2a41f",
   "metadata": {},
   "outputs": [
    {
     "name": "stderr",
     "output_type": "stream",
     "text": [
      "C:\\Users\\Luigi\\AppData\\Local\\Temp\\ipykernel_5584\\2631105589.py:2: UserWarning: Parsing dates in %d/%m/%Y %H:%M format when dayfirst=False (the default) was specified. Pass `dayfirst=True` or specify a format to silence this warning.\n",
      "  inDataFrame['Date'] = pd.to_datetime(inDataFrame['Date'])\n"
     ]
    }
   ],
   "source": [
    "# Get years\n",
    "inDataFrame['Date'] = pd.to_datetime(inDataFrame['Date'])\n",
    "years = inDataFrame['Date'].dt.year.unique()"
   ]
  },
  {
   "cell_type": "code",
   "execution_count": 228,
   "id": "de66f4cf-1b8c-4b32-8cc1-1cd0d221dcc5",
   "metadata": {},
   "outputs": [
    {
     "name": "stdout",
     "output_type": "stream",
     "text": [
      "2024 single positional indexer is out-of-bounds\n",
      "2023\n",
      "figure(id='p18617', ...)\n",
      "<class 'bokeh.plotting._figure.figure'>\n",
      "<class 'bokeh.plotting._figure.figure'>\n",
      "<class 'bokeh.plotting._figure.figure'>\n"
     ]
    }
   ],
   "source": [
    "# Generate yearly reports\n",
    "for yr in years:\n",
    "    try:\n",
    "        [pN, pP] = yearlyPlot(yr, inDataFrame[inDataFrame.Date.dt.year==yr])\n",
    "        p = monthlyPlot(yr, inDataFrame[inDataFrame.Date.dt.year==yr])\n",
    "        print(type(p))\n",
    "        print(type(pN))\n",
    "        print(type(pP))\n",
    "        show(Column(Row(pN,pP),p))\n",
    "        show(p)\n",
    "    except Exception as e:\n",
    "        print(yr,e)\n",
    "        pass"
   ]
  },
  {
   "cell_type": "code",
   "execution_count": 199,
   "id": "bccd9842-c320-4215-a20b-03d449276e02",
   "metadata": {},
   "outputs": [],
   "source": [
    "def piePlot(title: str, df: pd.Series, colors: list[str], percAggregate: int = 20):\n",
    "\n",
    "    aggregated = df[~(df[' Type']==\"TRANSFER\")].groupby([' Category'])[' Amount'].sum()\n",
    "    aggregated.sort_values(key=abs, inplace=True, ascending=False)\n",
    "    \n",
    "    # Categories as a percentage of the total\n",
    "    perc = aggregated/aggregated.sum()\n",
    "    \n",
    "    # select the most important elements\n",
    "    if len(aggregated) == 1:\n",
    "        selected = aggregated\n",
    "    else:\n",
    "        selected = aggregated[perc.cumsum() < (1-percAggregate/100)]\n",
    "        # at least one\n",
    "        if len(selected) < 1:\n",
    "            selected = aggregated.iloc[0]\n",
    "        selected.loc[\"Other\"] = aggregated.iloc[len(selected):].sum()\n",
    "\n",
    "    # also aggregate perc\n",
    "    perc = selected/selected.sum()\n",
    "    \n",
    "    angles = (2*pi*perc.cumsum()).tolist()\n",
    "\n",
    "    source = selected.reset_index(name='value').rename(columns={' Category': \"category\"})\n",
    "    source['start']  = [0] + angles[:-1]\n",
    "    source['end'] = angles\n",
    "    source['colors'] = [colors[cat] for cat in selected.index.to_list()]\n",
    "    \n",
    "    p = figure(height=350, title=title, toolbar_location=None,\n",
    "           tools=\"hover\", tooltips=\"@category: @value{0,0}\", x_range=(-0.5, 1.0))\n",
    "\n",
    "    p.wedge(x=0, y=1, radius=0.4,\n",
    "            start_angle=\"start\", end_angle=\"end\",\n",
    "            line_color=\"white\", fill_color=\"colors\", legend_field=\"category\", source=source)\n",
    "    \n",
    "    p.axis.axis_label = None\n",
    "    p.axis.visible = False\n",
    "    p.grid.grid_line_color = None\n",
    "    \n",
    "    return(p)\n",
    "\n",
    "def yearlyPlot(yr: int, df: pd.DataFrame):\n",
    "    # Get category colors\n",
    "    tmp = df[[' Category',' Category Color']]\n",
    "    flt = df[' Category'].drop_duplicates().index\n",
    "    tmp = tmp.loc[flt].to_dict(orient='split',index=False)\n",
    "    colors = dict(tmp['data'])\n",
    "    colors[\"Other\"] = \"#1C1C3C\"\n",
    "\n",
    "    dfN = df[df[' Amount'] < 0]\n",
    "    dfP = df[df[' Amount'] >= 0]\n",
    "\n",
    "    pN = piePlot(f\"Yearly expenses by category ({yr})\", dfN, colors, 15)\n",
    "    pP = piePlot(f\"Yearly income by category ({yr})\", dfP, colors, 15)\n",
    "    \n",
    "    print(yr)\n",
    "    # print(df.head())\n",
    "    return [pN, pP]"
   ]
  },
  {
   "cell_type": "code",
   "execution_count": 226,
   "id": "ba695e8f-0c95-4fff-a68e-939981f67cd7",
   "metadata": {},
   "outputs": [],
   "source": [
    "def monthlyPlot(yr: int, df: pd.DataFrame):\n",
    "    source = df.groupby([' Category', df.Date.dt.month])[' Amount'].sum()\n",
    "    \n",
    "    # Get category colors\n",
    "    tmp = df[[' Category',' Category Color']]\n",
    "    flt = df[' Category'].drop_duplicates().index\n",
    "    tmp = tmp.loc[flt].to_dict(orient='split',index=False)\n",
    "    colors = dict(tmp['data'])\n",
    "    \n",
    "    # create a new plot with a title and axis labels\n",
    "    p = figure(title=f\"Monthly expenses by category ({yr})\",\n",
    "               x_axis_label=\"Date\", y_axis_label=\"Expenses\",\n",
    "              height=700, width=900)\n",
    "    \n",
    "    p.add_layout(Legend(), 'right')\n",
    "    # add multiple renderers\n",
    "    for cat in df[' Category'].unique():\n",
    "        x = source[cat].index.to_list()\n",
    "        y = source[cat].to_list()\n",
    "        l = p.line(x, y, name=cat, legend_label=cat, color=colors[cat], line_width=2)\n",
    "    p.add_tools(HoverTool(tooltips=[(\"Category\", \"$name\"), (\"Month\", \"@x{0}\"), (\"Expense\", \"@y{0,0}\")],\n",
    "                          mode=\"vline\",\n",
    "                         point_policy='snap_to_data'))#, renderers=[l]))\n",
    "\n",
    "    p.legend.click_policy=\"hide\"\n",
    "    # show the results\n",
    "    print(p)\n",
    "    return(p)"
   ]
  },
  {
   "cell_type": "code",
   "execution_count": 76,
   "id": "c3232046-0e48-4749-856b-e961669bf181",
   "metadata": {},
   "outputs": [],
   "source": [
    "test2 = inDataFrame[inDataFrame.Date.dt.year==2022]\n",
    "test = inDataFrame[inDataFrame.Date.dt.year==2023]\n",
    "test4 = inDataFrame[inDataFrame.Date.dt.year==2024]\n"
   ]
  },
  {
   "cell_type": "code",
   "execution_count": 151,
   "id": "8ed69c25-9660-4848-aeca-43540a7e1e32",
   "metadata": {},
   "outputs": [
    {
     "data": {
      "text/plain": [
       "[0.0,\n",
       " 0.0,\n",
       " 0.0,\n",
       " 0.0,\n",
       " 1.05,\n",
       " 0.0,\n",
       " 0.48000000000000004,\n",
       " 0.1,\n",
       " 1.75,\n",
       " 5.12,\n",
       " 2.0,\n",
       " 2.23]"
      ]
     },
     "execution_count": 151,
     "metadata": {},
     "output_type": "execute_result"
    }
   ],
   "source": [
    "x=df.groupby([' Category', df.Date.dt.month])[' Amount'].sum()\n",
    "x['Risparmi'].to_list()"
   ]
  }
 ],
 "metadata": {
  "kernelspec": {
   "display_name": "Python 3 (ipykernel)",
   "language": "python",
   "name": "python3"
  },
  "language_info": {
   "codemirror_mode": {
    "name": "ipython",
    "version": 3
   },
   "file_extension": ".py",
   "mimetype": "text/x-python",
   "name": "python",
   "nbconvert_exporter": "python",
   "pygments_lexer": "ipython3",
   "version": "3.11.5"
  }
 },
 "nbformat": 4,
 "nbformat_minor": 5
}
